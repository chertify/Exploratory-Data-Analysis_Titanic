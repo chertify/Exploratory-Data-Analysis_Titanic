{
 "cells": [
  {
   "cell_type": "markdown",
   "id": "75925beb",
   "metadata": {},
   "source": [
    "# Step by Step Exploratory Data Analysis on Titanic Dataset"
   ]
  },
  {
   "cell_type": "markdown",
   "id": "9195e6fc",
   "metadata": {},
   "source": [
    "Exploratory data analysis is an approach to analyze and investigate data sets and summarize their main characteristics, often employing data visualization methods.\n",
    "\n",
    "To analyze the Titanic dataset, we will use Pandas, Seaborn, Math, Numpy, Pyplot from Matplotlib and Stats from Scipy.\n"
   ]
  },
  {
   "cell_type": "code",
   "execution_count": 1,
   "id": "9cbe6a6f",
   "metadata": {},
   "outputs": [],
   "source": [
    "import pandas as pd\n",
    "import seaborn as sns\n",
    "import math as math\n",
    "import numpy as np\n",
    "from matplotlib import pyplot as plt\n",
    "from scipy import stats\n",
    "%matplotlib inline\n"
   ]
  },
  {
   "cell_type": "code",
   "execution_count": 2,
   "id": "1d5e50cb",
   "metadata": {},
   "outputs": [],
   "source": [
    "df = pd.read_csv('../data/titanic.csv')"
   ]
  },
  {
   "cell_type": "code",
   "execution_count": 3,
   "id": "6fcd52f4",
   "metadata": {},
   "outputs": [
    {
     "name": "stdout",
     "output_type": "stream",
     "text": [
      "<class 'pandas.core.frame.DataFrame'>\n",
      "RangeIndex: 891 entries, 0 to 890\n",
      "Data columns (total 12 columns):\n",
      " #   Column       Non-Null Count  Dtype  \n",
      "---  ------       --------------  -----  \n",
      " 0   PassengerId  891 non-null    int64  \n",
      " 1   Survived     891 non-null    int64  \n",
      " 2   Pclass       891 non-null    int64  \n",
      " 3   Name         891 non-null    object \n",
      " 4   Sex          891 non-null    object \n",
      " 5   Age          714 non-null    float64\n",
      " 6   SibSp        891 non-null    int64  \n",
      " 7   Parch        891 non-null    int64  \n",
      " 8   Ticket       891 non-null    object \n",
      " 9   Fare         891 non-null    float64\n",
      " 10  Cabin        204 non-null    object \n",
      " 11  Embarked     889 non-null    object \n",
      "dtypes: float64(2), int64(5), object(5)\n",
      "memory usage: 83.7+ KB\n"
     ]
    }
   ],
   "source": [
    "df.info()"
   ]
  },
  {
   "cell_type": "markdown",
   "id": "bf1a77f4",
   "metadata": {},
   "source": [
    "We can see that Titanic dataset has 11 columns and 891 observations.  There are also missing values on Age and Cabin column.\n",
    "\n",
    "To get a better idea about the data set, we will use the head function of dataframe, which will return the first 5 rows."
   ]
  },
  {
   "cell_type": "code",
   "execution_count": 4,
   "id": "25e7c08a",
   "metadata": {},
   "outputs": [
    {
     "data": {
      "text/html": [
       "<div>\n",
       "<style scoped>\n",
       "    .dataframe tbody tr th:only-of-type {\n",
       "        vertical-align: middle;\n",
       "    }\n",
       "\n",
       "    .dataframe tbody tr th {\n",
       "        vertical-align: top;\n",
       "    }\n",
       "\n",
       "    .dataframe thead th {\n",
       "        text-align: right;\n",
       "    }\n",
       "</style>\n",
       "<table border=\"1\" class=\"dataframe\">\n",
       "  <thead>\n",
       "    <tr style=\"text-align: right;\">\n",
       "      <th></th>\n",
       "      <th>PassengerId</th>\n",
       "      <th>Survived</th>\n",
       "      <th>Pclass</th>\n",
       "      <th>Name</th>\n",
       "      <th>Sex</th>\n",
       "      <th>Age</th>\n",
       "      <th>SibSp</th>\n",
       "      <th>Parch</th>\n",
       "      <th>Ticket</th>\n",
       "      <th>Fare</th>\n",
       "      <th>Cabin</th>\n",
       "      <th>Embarked</th>\n",
       "    </tr>\n",
       "  </thead>\n",
       "  <tbody>\n",
       "    <tr>\n",
       "      <th>0</th>\n",
       "      <td>1</td>\n",
       "      <td>0</td>\n",
       "      <td>3</td>\n",
       "      <td>Braund, Mr. Owen Harris</td>\n",
       "      <td>male</td>\n",
       "      <td>22.0</td>\n",
       "      <td>1</td>\n",
       "      <td>0</td>\n",
       "      <td>A/5 21171</td>\n",
       "      <td>7.2500</td>\n",
       "      <td>NaN</td>\n",
       "      <td>S</td>\n",
       "    </tr>\n",
       "    <tr>\n",
       "      <th>1</th>\n",
       "      <td>2</td>\n",
       "      <td>1</td>\n",
       "      <td>1</td>\n",
       "      <td>Cumings, Mrs. John Bradley (Florence Briggs Th...</td>\n",
       "      <td>female</td>\n",
       "      <td>38.0</td>\n",
       "      <td>1</td>\n",
       "      <td>0</td>\n",
       "      <td>PC 17599</td>\n",
       "      <td>71.2833</td>\n",
       "      <td>C85</td>\n",
       "      <td>C</td>\n",
       "    </tr>\n",
       "    <tr>\n",
       "      <th>2</th>\n",
       "      <td>3</td>\n",
       "      <td>1</td>\n",
       "      <td>3</td>\n",
       "      <td>Heikkinen, Miss. Laina</td>\n",
       "      <td>female</td>\n",
       "      <td>26.0</td>\n",
       "      <td>0</td>\n",
       "      <td>0</td>\n",
       "      <td>STON/O2. 3101282</td>\n",
       "      <td>7.9250</td>\n",
       "      <td>NaN</td>\n",
       "      <td>S</td>\n",
       "    </tr>\n",
       "    <tr>\n",
       "      <th>3</th>\n",
       "      <td>4</td>\n",
       "      <td>1</td>\n",
       "      <td>1</td>\n",
       "      <td>Futrelle, Mrs. Jacques Heath (Lily May Peel)</td>\n",
       "      <td>female</td>\n",
       "      <td>35.0</td>\n",
       "      <td>1</td>\n",
       "      <td>0</td>\n",
       "      <td>113803</td>\n",
       "      <td>53.1000</td>\n",
       "      <td>C123</td>\n",
       "      <td>S</td>\n",
       "    </tr>\n",
       "    <tr>\n",
       "      <th>4</th>\n",
       "      <td>5</td>\n",
       "      <td>0</td>\n",
       "      <td>3</td>\n",
       "      <td>Allen, Mr. William Henry</td>\n",
       "      <td>male</td>\n",
       "      <td>35.0</td>\n",
       "      <td>0</td>\n",
       "      <td>0</td>\n",
       "      <td>373450</td>\n",
       "      <td>8.0500</td>\n",
       "      <td>NaN</td>\n",
       "      <td>S</td>\n",
       "    </tr>\n",
       "  </tbody>\n",
       "</table>\n",
       "</div>"
      ],
      "text/plain": [
       "   PassengerId  Survived  Pclass  \\\n",
       "0            1         0       3   \n",
       "1            2         1       1   \n",
       "2            3         1       3   \n",
       "3            4         1       1   \n",
       "4            5         0       3   \n",
       "\n",
       "                                                Name     Sex   Age  SibSp  \\\n",
       "0                            Braund, Mr. Owen Harris    male  22.0      1   \n",
       "1  Cumings, Mrs. John Bradley (Florence Briggs Th...  female  38.0      1   \n",
       "2                             Heikkinen, Miss. Laina  female  26.0      0   \n",
       "3       Futrelle, Mrs. Jacques Heath (Lily May Peel)  female  35.0      1   \n",
       "4                           Allen, Mr. William Henry    male  35.0      0   \n",
       "\n",
       "   Parch            Ticket     Fare Cabin Embarked  \n",
       "0      0         A/5 21171   7.2500   NaN        S  \n",
       "1      0          PC 17599  71.2833   C85        C  \n",
       "2      0  STON/O2. 3101282   7.9250   NaN        S  \n",
       "3      0            113803  53.1000  C123        S  \n",
       "4      0            373450   8.0500   NaN        S  "
      ]
     },
     "execution_count": 4,
     "metadata": {},
     "output_type": "execute_result"
    }
   ],
   "source": [
    "df.head()"
   ]
  },
  {
   "cell_type": "markdown",
   "id": "9836fee5",
   "metadata": {},
   "source": [
    "To identify the unique values of selected variables, we will use Python's built-in enumerate method.  When we run this, we will also see whether there are null values."
   ]
  },
  {
   "cell_type": "code",
   "execution_count": 5,
   "id": "cc5ff2c0",
   "metadata": {},
   "outputs": [
    {
     "name": "stdout",
     "output_type": "stream",
     "text": [
      "Survived: [0 1]\n",
      "Pclass: [3 1 2]\n",
      "Sex: ['male' 'female']\n",
      "Parch: [0 1 2 5 3 4 6]\n",
      "Embarked: ['S' 'C' 'Q' nan]\n",
      "Cabin: [nan 'C85' 'C123' 'E46' 'G6' 'C103' 'D56' 'A6' 'C23 C25 C27' 'B78' 'D33'\n",
      " 'B30' 'C52' 'B28' 'C83' 'F33' 'F G73' 'E31' 'A5' 'D10 D12' 'D26' 'C110'\n",
      " 'B58 B60' 'E101' 'F E69' 'D47' 'B86' 'F2' 'C2' 'E33' 'B19' 'A7' 'C49'\n",
      " 'F4' 'A32' 'B4' 'B80' 'A31' 'D36' 'D15' 'C93' 'C78' 'D35' 'C87' 'B77'\n",
      " 'E67' 'B94' 'C125' 'C99' 'C118' 'D7' 'A19' 'B49' 'D' 'C22 C26' 'C106'\n",
      " 'C65' 'E36' 'C54' 'B57 B59 B63 B66' 'C7' 'E34' 'C32' 'B18' 'C124' 'C91'\n",
      " 'E40' 'T' 'C128' 'D37' 'B35' 'E50' 'C82' 'B96 B98' 'E10' 'E44' 'A34'\n",
      " 'C104' 'C111' 'C92' 'E38' 'D21' 'E12' 'E63' 'A14' 'B37' 'C30' 'D20' 'B79'\n",
      " 'E25' 'D46' 'B73' 'C95' 'B38' 'B39' 'B22' 'C86' 'C70' 'A16' 'C101' 'C68'\n",
      " 'A10' 'E68' 'B41' 'A20' 'D19' 'D50' 'D9' 'A23' 'B50' 'A26' 'D48' 'E58'\n",
      " 'C126' 'B71' 'B51 B53 B55' 'D49' 'B5' 'B20' 'F G63' 'C62 C64' 'E24' 'C90'\n",
      " 'C45' 'E8' 'B101' 'D45' 'C46' 'D30' 'E121' 'D11' 'E77' 'F38' 'B3' 'D6'\n",
      " 'B82 B84' 'D17' 'A36' 'B102' 'B69' 'E49' 'C47' 'D28' 'E17' 'A24' 'C50'\n",
      " 'B42' 'C148']\n",
      "SibSp: [1 0 3 4 2 5 8]\n"
     ]
    }
   ],
   "source": [
    "var_tup = ('Survived', 'Pclass', 'Sex', 'Parch', 'Embarked', 'Cabin', 'SibSp')\n",
    "\n",
    "for idx, val in enumerate(var_tup):\n",
    "    print(\"{}: {}\".format(var_tup[idx], df[val].unique()))"
   ]
  },
  {
   "cell_type": "markdown",
   "id": "bab6d4c8",
   "metadata": {},
   "source": [
    "Using isnull() method will allow us to see whether there are null values represented by 'True.'"
   ]
  },
  {
   "cell_type": "code",
   "execution_count": 6,
   "id": "9b249a09",
   "metadata": {},
   "outputs": [
    {
     "data": {
      "text/html": [
       "<div>\n",
       "<style scoped>\n",
       "    .dataframe tbody tr th:only-of-type {\n",
       "        vertical-align: middle;\n",
       "    }\n",
       "\n",
       "    .dataframe tbody tr th {\n",
       "        vertical-align: top;\n",
       "    }\n",
       "\n",
       "    .dataframe thead th {\n",
       "        text-align: right;\n",
       "    }\n",
       "</style>\n",
       "<table border=\"1\" class=\"dataframe\">\n",
       "  <thead>\n",
       "    <tr style=\"text-align: right;\">\n",
       "      <th></th>\n",
       "      <th>PassengerId</th>\n",
       "      <th>Survived</th>\n",
       "      <th>Pclass</th>\n",
       "      <th>Name</th>\n",
       "      <th>Sex</th>\n",
       "      <th>Age</th>\n",
       "      <th>SibSp</th>\n",
       "      <th>Parch</th>\n",
       "      <th>Ticket</th>\n",
       "      <th>Fare</th>\n",
       "      <th>Cabin</th>\n",
       "      <th>Embarked</th>\n",
       "    </tr>\n",
       "  </thead>\n",
       "  <tbody>\n",
       "    <tr>\n",
       "      <th>0</th>\n",
       "      <td>False</td>\n",
       "      <td>False</td>\n",
       "      <td>False</td>\n",
       "      <td>False</td>\n",
       "      <td>False</td>\n",
       "      <td>False</td>\n",
       "      <td>False</td>\n",
       "      <td>False</td>\n",
       "      <td>False</td>\n",
       "      <td>False</td>\n",
       "      <td>True</td>\n",
       "      <td>False</td>\n",
       "    </tr>\n",
       "    <tr>\n",
       "      <th>1</th>\n",
       "      <td>False</td>\n",
       "      <td>False</td>\n",
       "      <td>False</td>\n",
       "      <td>False</td>\n",
       "      <td>False</td>\n",
       "      <td>False</td>\n",
       "      <td>False</td>\n",
       "      <td>False</td>\n",
       "      <td>False</td>\n",
       "      <td>False</td>\n",
       "      <td>False</td>\n",
       "      <td>False</td>\n",
       "    </tr>\n",
       "    <tr>\n",
       "      <th>2</th>\n",
       "      <td>False</td>\n",
       "      <td>False</td>\n",
       "      <td>False</td>\n",
       "      <td>False</td>\n",
       "      <td>False</td>\n",
       "      <td>False</td>\n",
       "      <td>False</td>\n",
       "      <td>False</td>\n",
       "      <td>False</td>\n",
       "      <td>False</td>\n",
       "      <td>True</td>\n",
       "      <td>False</td>\n",
       "    </tr>\n",
       "    <tr>\n",
       "      <th>3</th>\n",
       "      <td>False</td>\n",
       "      <td>False</td>\n",
       "      <td>False</td>\n",
       "      <td>False</td>\n",
       "      <td>False</td>\n",
       "      <td>False</td>\n",
       "      <td>False</td>\n",
       "      <td>False</td>\n",
       "      <td>False</td>\n",
       "      <td>False</td>\n",
       "      <td>False</td>\n",
       "      <td>False</td>\n",
       "    </tr>\n",
       "    <tr>\n",
       "      <th>4</th>\n",
       "      <td>False</td>\n",
       "      <td>False</td>\n",
       "      <td>False</td>\n",
       "      <td>False</td>\n",
       "      <td>False</td>\n",
       "      <td>False</td>\n",
       "      <td>False</td>\n",
       "      <td>False</td>\n",
       "      <td>False</td>\n",
       "      <td>False</td>\n",
       "      <td>True</td>\n",
       "      <td>False</td>\n",
       "    </tr>\n",
       "    <tr>\n",
       "      <th>...</th>\n",
       "      <td>...</td>\n",
       "      <td>...</td>\n",
       "      <td>...</td>\n",
       "      <td>...</td>\n",
       "      <td>...</td>\n",
       "      <td>...</td>\n",
       "      <td>...</td>\n",
       "      <td>...</td>\n",
       "      <td>...</td>\n",
       "      <td>...</td>\n",
       "      <td>...</td>\n",
       "      <td>...</td>\n",
       "    </tr>\n",
       "    <tr>\n",
       "      <th>886</th>\n",
       "      <td>False</td>\n",
       "      <td>False</td>\n",
       "      <td>False</td>\n",
       "      <td>False</td>\n",
       "      <td>False</td>\n",
       "      <td>False</td>\n",
       "      <td>False</td>\n",
       "      <td>False</td>\n",
       "      <td>False</td>\n",
       "      <td>False</td>\n",
       "      <td>True</td>\n",
       "      <td>False</td>\n",
       "    </tr>\n",
       "    <tr>\n",
       "      <th>887</th>\n",
       "      <td>False</td>\n",
       "      <td>False</td>\n",
       "      <td>False</td>\n",
       "      <td>False</td>\n",
       "      <td>False</td>\n",
       "      <td>False</td>\n",
       "      <td>False</td>\n",
       "      <td>False</td>\n",
       "      <td>False</td>\n",
       "      <td>False</td>\n",
       "      <td>False</td>\n",
       "      <td>False</td>\n",
       "    </tr>\n",
       "    <tr>\n",
       "      <th>888</th>\n",
       "      <td>False</td>\n",
       "      <td>False</td>\n",
       "      <td>False</td>\n",
       "      <td>False</td>\n",
       "      <td>False</td>\n",
       "      <td>True</td>\n",
       "      <td>False</td>\n",
       "      <td>False</td>\n",
       "      <td>False</td>\n",
       "      <td>False</td>\n",
       "      <td>True</td>\n",
       "      <td>False</td>\n",
       "    </tr>\n",
       "    <tr>\n",
       "      <th>889</th>\n",
       "      <td>False</td>\n",
       "      <td>False</td>\n",
       "      <td>False</td>\n",
       "      <td>False</td>\n",
       "      <td>False</td>\n",
       "      <td>False</td>\n",
       "      <td>False</td>\n",
       "      <td>False</td>\n",
       "      <td>False</td>\n",
       "      <td>False</td>\n",
       "      <td>False</td>\n",
       "      <td>False</td>\n",
       "    </tr>\n",
       "    <tr>\n",
       "      <th>890</th>\n",
       "      <td>False</td>\n",
       "      <td>False</td>\n",
       "      <td>False</td>\n",
       "      <td>False</td>\n",
       "      <td>False</td>\n",
       "      <td>False</td>\n",
       "      <td>False</td>\n",
       "      <td>False</td>\n",
       "      <td>False</td>\n",
       "      <td>False</td>\n",
       "      <td>True</td>\n",
       "      <td>False</td>\n",
       "    </tr>\n",
       "  </tbody>\n",
       "</table>\n",
       "<p>891 rows × 12 columns</p>\n",
       "</div>"
      ],
      "text/plain": [
       "     PassengerId  Survived  Pclass   Name    Sex    Age  SibSp  Parch  Ticket  \\\n",
       "0          False     False   False  False  False  False  False  False   False   \n",
       "1          False     False   False  False  False  False  False  False   False   \n",
       "2          False     False   False  False  False  False  False  False   False   \n",
       "3          False     False   False  False  False  False  False  False   False   \n",
       "4          False     False   False  False  False  False  False  False   False   \n",
       "..           ...       ...     ...    ...    ...    ...    ...    ...     ...   \n",
       "886        False     False   False  False  False  False  False  False   False   \n",
       "887        False     False   False  False  False  False  False  False   False   \n",
       "888        False     False   False  False  False   True  False  False   False   \n",
       "889        False     False   False  False  False  False  False  False   False   \n",
       "890        False     False   False  False  False  False  False  False   False   \n",
       "\n",
       "      Fare  Cabin  Embarked  \n",
       "0    False   True     False  \n",
       "1    False  False     False  \n",
       "2    False   True     False  \n",
       "3    False  False     False  \n",
       "4    False   True     False  \n",
       "..     ...    ...       ...  \n",
       "886  False   True     False  \n",
       "887  False  False     False  \n",
       "888  False   True     False  \n",
       "889  False  False     False  \n",
       "890  False   True     False  \n",
       "\n",
       "[891 rows x 12 columns]"
      ]
     },
     "execution_count": 6,
     "metadata": {},
     "output_type": "execute_result"
    }
   ],
   "source": [
    "df.isnull()"
   ]
  },
  {
   "cell_type": "markdown",
   "id": "1e183d72",
   "metadata": {},
   "source": [
    "To visualize the null values, we can use Seaborn heatmap.  The yellow broken bar graph shows the rows or observations with missing values."
   ]
  },
  {
   "cell_type": "code",
   "execution_count": 7,
   "id": "c5fc6525",
   "metadata": {},
   "outputs": [
    {
     "data": {
      "text/plain": [
       "<AxesSubplot:>"
      ]
     },
     "execution_count": 7,
     "metadata": {},
     "output_type": "execute_result"
    },
    {
     "data": {
      "image/png": "[encoded data removed]",
      "text/plain": [
       "<Figure size 432x288 with 1 Axes>"
      ]
     },
     "metadata": {
      "needs_background": "light"
     },
     "output_type": "display_data"
    }
   ],
   "source": [
    "sns.heatmap(df.isnull(),yticklabels=False,cbar=False,cmap=\"viridis\")"
   ]
  },
  {
   "cell_type": "markdown",
   "id": "551d0df1",
   "metadata": {},
   "source": [
    "Another way to know the percentage of null values is by dividing the sum of null values by the number of observations in each column, then multiplied by 100%.\n",
    "\n",
    "We can see below that there are 77.10% null values on Cabin, 19.87% on Age column and 0.22% on Embarked."
   ]
  },
  {
   "cell_type": "code",
   "execution_count": 8,
   "id": "f260b170",
   "metadata": {},
   "outputs": [
    {
     "name": "stdout",
     "output_type": "stream",
     "text": [
      "Percentages of missing values:\n",
      "Cabin          77.10\n",
      "Age            19.87\n",
      "Embarked        0.22\n",
      "PassengerId     0.00\n",
      "Survived        0.00\n",
      "Pclass          0.00\n",
      "Name            0.00\n",
      "Sex             0.00\n",
      "SibSp           0.00\n",
      "Parch           0.00\n",
      "Ticket          0.00\n",
      "Fare            0.00\n",
      "dtype: float64\n"
     ]
    }
   ],
   "source": [
    "print(\"Percentages of missing values:\")\n",
    "print(round (df.isnull().sum().sort_values(ascending=False)/len(df)*100,2))"
   ]
  },
  {
   "cell_type": "markdown",
   "id": "2606de7a",
   "metadata": {},
   "source": [
    "Based on the visual graph and numeric graph we've displayed, it is visible that Cabin, Embarked and Age have null values.  \n",
    "\n",
    "Let us now proceed to deleting the columns we will not include in our analysis such as Cabin, Embarked, Ticket and PassengerID.  "
   ]
  },
  {
   "cell_type": "code",
   "execution_count": 9,
   "id": "cb6b1a20",
   "metadata": {},
   "outputs": [
    {
     "data": {
      "text/html": [
       "<div>\n",
       "<style scoped>\n",
       "    .dataframe tbody tr th:only-of-type {\n",
       "        vertical-align: middle;\n",
       "    }\n",
       "\n",
       "    .dataframe tbody tr th {\n",
       "        vertical-align: top;\n",
       "    }\n",
       "\n",
       "    .dataframe thead th {\n",
       "        text-align: right;\n",
       "    }\n",
       "</style>\n",
       "<table border=\"1\" class=\"dataframe\">\n",
       "  <thead>\n",
       "    <tr style=\"text-align: right;\">\n",
       "      <th></th>\n",
       "      <th>Survived</th>\n",
       "      <th>Pclass</th>\n",
       "      <th>Name</th>\n",
       "      <th>Sex</th>\n",
       "      <th>Age</th>\n",
       "      <th>SibSp</th>\n",
       "      <th>Parch</th>\n",
       "      <th>Fare</th>\n",
       "    </tr>\n",
       "  </thead>\n",
       "  <tbody>\n",
       "    <tr>\n",
       "      <th>0</th>\n",
       "      <td>0</td>\n",
       "      <td>3</td>\n",
       "      <td>Braund, Mr. Owen Harris</td>\n",
       "      <td>male</td>\n",
       "      <td>22.0</td>\n",
       "      <td>1</td>\n",
       "      <td>0</td>\n",
       "      <td>7.2500</td>\n",
       "    </tr>\n",
       "    <tr>\n",
       "      <th>1</th>\n",
       "      <td>1</td>\n",
       "      <td>1</td>\n",
       "      <td>Cumings, Mrs. John Bradley (Florence Briggs Th...</td>\n",
       "      <td>female</td>\n",
       "      <td>38.0</td>\n",
       "      <td>1</td>\n",
       "      <td>0</td>\n",
       "      <td>71.2833</td>\n",
       "    </tr>\n",
       "    <tr>\n",
       "      <th>2</th>\n",
       "      <td>1</td>\n",
       "      <td>3</td>\n",
       "      <td>Heikkinen, Miss. Laina</td>\n",
       "      <td>female</td>\n",
       "      <td>26.0</td>\n",
       "      <td>0</td>\n",
       "      <td>0</td>\n",
       "      <td>7.9250</td>\n",
       "    </tr>\n",
       "    <tr>\n",
       "      <th>3</th>\n",
       "      <td>1</td>\n",
       "      <td>1</td>\n",
       "      <td>Futrelle, Mrs. Jacques Heath (Lily May Peel)</td>\n",
       "      <td>female</td>\n",
       "      <td>35.0</td>\n",
       "      <td>1</td>\n",
       "      <td>0</td>\n",
       "      <td>53.1000</td>\n",
       "    </tr>\n",
       "    <tr>\n",
       "      <th>4</th>\n",
       "      <td>0</td>\n",
       "      <td>3</td>\n",
       "      <td>Allen, Mr. William Henry</td>\n",
       "      <td>male</td>\n",
       "      <td>35.0</td>\n",
       "      <td>0</td>\n",
       "      <td>0</td>\n",
       "      <td>8.0500</td>\n",
       "    </tr>\n",
       "  </tbody>\n",
       "</table>\n",
       "</div>"
      ],
      "text/plain": [
       "   Survived  Pclass                                               Name  \\\n",
       "0         0       3                            Braund, Mr. Owen Harris   \n",
       "1         1       1  Cumings, Mrs. John Bradley (Florence Briggs Th...   \n",
       "2         1       3                             Heikkinen, Miss. Laina   \n",
       "3         1       1       Futrelle, Mrs. Jacques Heath (Lily May Peel)   \n",
       "4         0       3                           Allen, Mr. William Henry   \n",
       "\n",
       "      Sex   Age  SibSp  Parch     Fare  \n",
       "0    male  22.0      1      0   7.2500  \n",
       "1  female  38.0      1      0  71.2833  \n",
       "2  female  26.0      0      0   7.9250  \n",
       "3  female  35.0      1      0  53.1000  \n",
       "4    male  35.0      0      0   8.0500  "
      ]
     },
     "execution_count": 9,
     "metadata": {},
     "output_type": "execute_result"
    }
   ],
   "source": [
    "col_del = ('Cabin', 'Embarked', 'PassengerId', 'Ticket')\n",
    "\n",
    "for idx, val in enumerate(col_del):\n",
    "    df.drop( col_del[idx], axis=1, inplace=True)\n",
    "\n",
    "df.head()"
   ]
  },
  {
   "cell_type": "markdown",
   "id": "b93f49ca",
   "metadata": {},
   "source": [
    "After deleting the unnecessary variables, we will now be checking the remaining column with null values.  On the heatmap below, it appears that 'Age' is the remaining column with null values.  We will not delete this as it's useful in our exploratory data analysis.  We would like to know whether 'age' influences the survival rate of each passenger."
   ]
  },
  {
   "cell_type": "code",
   "execution_count": 11,
   "id": "e63c584c",
   "metadata": {},
   "outputs": [
    {
     "data": {
      "text/plain": [
       "<AxesSubplot:>"
      ]
     },
     "execution_count": 11,
     "metadata": {},
     "output_type": "execute_result"
    },
    {
     "data": {
      "image/png": "[encoded data removed]",
      "text/plain": [
       "<Figure size 432x288 with 1 Axes>"
      ]
     },
     "metadata": {
      "needs_background": "light"
     },
     "output_type": "display_data"
    }
   ],
   "source": [
    "sns.heatmap(df.isnull(),yticklabels=False,cbar=False,cmap=\"viridis\")"
   ]
  },
  {
   "cell_type": "markdown",
   "id": "b24e5210",
   "metadata": {},
   "source": [
    "Now, let us fix the missing values on Age by examining it closely.\n",
    "\n",
    "Based on the numerical graph below, we can see the mean age of each Pclass before Titanic sank.  On our numerical graph, we can see that those who survived are younger than those who didn't.  Pclass 1 and 2 who survived are approximately 8 years younger than those who didn't based on the mean value.  For Pclass 3 who survived, they are approximately 6 years younger based on the mean value."
   ]
  },
  {
   "cell_type": "code",
   "execution_count": 21,
   "id": "6aea0437",
   "metadata": {},
   "outputs": [
    {
     "name": "stdout",
     "output_type": "stream",
     "text": [
      "                 mean  median\n",
      "Survived Pclass              \n",
      "0        1       43.7    45.2\n",
      "         2       33.5    30.5\n",
      "         3       26.6    25.0\n",
      "1        1       35.4    35.0\n",
      "         2       25.9    28.0\n",
      "         3       20.6    22.0\n"
     ]
    },
    {
     "data": {
      "image/png": "[encoded data removed]",
      "text/plain": [
       "<Figure size 432x288 with 1 Axes>"
      ]
     },
     "metadata": {
      "needs_background": "light"
     },
     "output_type": "display_data"
    }
   ],
   "source": [
    "sns.boxplot(x='Pclass',y='Age',data=df,palette='winter')\n",
    "\n",
    "# Shows the mean (from 0 to 1) survival rate for each Class\n",
    "# Class 1 has the highest survival rate, followed by class 2, then class 1\n",
    "print(df.groupby(['Survived', 'Pclass'])['Age'].agg(['mean', 'median']).round(1))\n"
   ]
  },
  {
   "cell_type": "markdown",
   "id": "71a143eb",
   "metadata": {},
   "source": [
    "## Imputing Age"
   ]
  },
  {
   "cell_type": "markdown",
   "id": "d310f0d1",
   "metadata": {},
   "source": [
    "Before imputing the missing values on Age column, first, we should know that each passenger are addressed by their title.  Let's create a separate column for their title so this can give us a better way of imputing Age column."
   ]
  },
  {
   "cell_type": "code",
   "execution_count": 23,
   "id": "023e5ec1",
   "metadata": {},
   "outputs": [
    {
     "data": {
      "text/html": [
       "<div>\n",
       "<style scoped>\n",
       "    .dataframe tbody tr th:only-of-type {\n",
       "        vertical-align: middle;\n",
       "    }\n",
       "\n",
       "    .dataframe tbody tr th {\n",
       "        vertical-align: top;\n",
       "    }\n",
       "\n",
       "    .dataframe thead th {\n",
       "        text-align: right;\n",
       "    }\n",
       "</style>\n",
       "<table border=\"1\" class=\"dataframe\">\n",
       "  <thead>\n",
       "    <tr style=\"text-align: right;\">\n",
       "      <th></th>\n",
       "      <th>Survived</th>\n",
       "      <th>Pclass</th>\n",
       "      <th>Name</th>\n",
       "      <th>Sex</th>\n",
       "      <th>Age</th>\n",
       "      <th>SibSp</th>\n",
       "      <th>Parch</th>\n",
       "      <th>Fare</th>\n",
       "      <th>Titles</th>\n",
       "    </tr>\n",
       "  </thead>\n",
       "  <tbody>\n",
       "    <tr>\n",
       "      <th>0</th>\n",
       "      <td>0</td>\n",
       "      <td>3</td>\n",
       "      <td>Braund, Mr. Owen Harris</td>\n",
       "      <td>male</td>\n",
       "      <td>22.0</td>\n",
       "      <td>1</td>\n",
       "      <td>0</td>\n",
       "      <td>7.2500</td>\n",
       "      <td>Mr.</td>\n",
       "    </tr>\n",
       "    <tr>\n",
       "      <th>1</th>\n",
       "      <td>1</td>\n",
       "      <td>1</td>\n",
       "      <td>Cumings, Mrs. John Bradley (Florence Briggs Th...</td>\n",
       "      <td>female</td>\n",
       "      <td>38.0</td>\n",
       "      <td>1</td>\n",
       "      <td>0</td>\n",
       "      <td>71.2833</td>\n",
       "      <td>Mrs.</td>\n",
       "    </tr>\n",
       "    <tr>\n",
       "      <th>2</th>\n",
       "      <td>1</td>\n",
       "      <td>3</td>\n",
       "      <td>Heikkinen, Miss. Laina</td>\n",
       "      <td>female</td>\n",
       "      <td>26.0</td>\n",
       "      <td>0</td>\n",
       "      <td>0</td>\n",
       "      <td>7.9250</td>\n",
       "      <td>Miss.</td>\n",
       "    </tr>\n",
       "    <tr>\n",
       "      <th>3</th>\n",
       "      <td>1</td>\n",
       "      <td>1</td>\n",
       "      <td>Futrelle, Mrs. Jacques Heath (Lily May Peel)</td>\n",
       "      <td>female</td>\n",
       "      <td>35.0</td>\n",
       "      <td>1</td>\n",
       "      <td>0</td>\n",
       "      <td>53.1000</td>\n",
       "      <td>Mrs.</td>\n",
       "    </tr>\n",
       "    <tr>\n",
       "      <th>4</th>\n",
       "      <td>0</td>\n",
       "      <td>3</td>\n",
       "      <td>Allen, Mr. William Henry</td>\n",
       "      <td>male</td>\n",
       "      <td>35.0</td>\n",
       "      <td>0</td>\n",
       "      <td>0</td>\n",
       "      <td>8.0500</td>\n",
       "      <td>Mr.</td>\n",
       "    </tr>\n",
       "    <tr>\n",
       "      <th>...</th>\n",
       "      <td>...</td>\n",
       "      <td>...</td>\n",
       "      <td>...</td>\n",
       "      <td>...</td>\n",
       "      <td>...</td>\n",
       "      <td>...</td>\n",
       "      <td>...</td>\n",
       "      <td>...</td>\n",
       "      <td>...</td>\n",
       "    </tr>\n",
       "    <tr>\n",
       "      <th>886</th>\n",
       "      <td>0</td>\n",
       "      <td>2</td>\n",
       "      <td>Montvila, Rev. Juozas</td>\n",
       "      <td>male</td>\n",
       "      <td>27.0</td>\n",
       "      <td>0</td>\n",
       "      <td>0</td>\n",
       "      <td>13.0000</td>\n",
       "      <td>Rev.</td>\n",
       "    </tr>\n",
       "    <tr>\n",
       "      <th>887</th>\n",
       "      <td>1</td>\n",
       "      <td>1</td>\n",
       "      <td>Graham, Miss. Margaret Edith</td>\n",
       "      <td>female</td>\n",
       "      <td>19.0</td>\n",
       "      <td>0</td>\n",
       "      <td>0</td>\n",
       "      <td>30.0000</td>\n",
       "      <td>Miss.</td>\n",
       "    </tr>\n",
       "    <tr>\n",
       "      <th>888</th>\n",
       "      <td>0</td>\n",
       "      <td>3</td>\n",
       "      <td>Johnston, Miss. Catherine Helen \"Carrie\"</td>\n",
       "      <td>female</td>\n",
       "      <td>NaN</td>\n",
       "      <td>1</td>\n",
       "      <td>2</td>\n",
       "      <td>23.4500</td>\n",
       "      <td>Miss.</td>\n",
       "    </tr>\n",
       "    <tr>\n",
       "      <th>889</th>\n",
       "      <td>1</td>\n",
       "      <td>1</td>\n",
       "      <td>Behr, Mr. Karl Howell</td>\n",
       "      <td>male</td>\n",
       "      <td>26.0</td>\n",
       "      <td>0</td>\n",
       "      <td>0</td>\n",
       "      <td>30.0000</td>\n",
       "      <td>Mr.</td>\n",
       "    </tr>\n",
       "    <tr>\n",
       "      <th>890</th>\n",
       "      <td>0</td>\n",
       "      <td>3</td>\n",
       "      <td>Dooley, Mr. Patrick</td>\n",
       "      <td>male</td>\n",
       "      <td>32.0</td>\n",
       "      <td>0</td>\n",
       "      <td>0</td>\n",
       "      <td>7.7500</td>\n",
       "      <td>Mr.</td>\n",
       "    </tr>\n",
       "  </tbody>\n",
       "</table>\n",
       "<p>891 rows × 9 columns</p>\n",
       "</div>"
      ],
      "text/plain": [
       "     Survived  Pclass                                               Name  \\\n",
       "0           0       3                            Braund, Mr. Owen Harris   \n",
       "1           1       1  Cumings, Mrs. John Bradley (Florence Briggs Th...   \n",
       "2           1       3                             Heikkinen, Miss. Laina   \n",
       "3           1       1       Futrelle, Mrs. Jacques Heath (Lily May Peel)   \n",
       "4           0       3                           Allen, Mr. William Henry   \n",
       "..        ...     ...                                                ...   \n",
       "886         0       2                              Montvila, Rev. Juozas   \n",
       "887         1       1                       Graham, Miss. Margaret Edith   \n",
       "888         0       3           Johnston, Miss. Catherine Helen \"Carrie\"   \n",
       "889         1       1                              Behr, Mr. Karl Howell   \n",
       "890         0       3                                Dooley, Mr. Patrick   \n",
       "\n",
       "        Sex   Age  SibSp  Parch     Fare Titles  \n",
       "0      male  22.0      1      0   7.2500    Mr.  \n",
       "1    female  38.0      1      0  71.2833   Mrs.  \n",
       "2    female  26.0      0      0   7.9250  Miss.  \n",
       "3    female  35.0      1      0  53.1000   Mrs.  \n",
       "4      male  35.0      0      0   8.0500    Mr.  \n",
       "..      ...   ...    ...    ...      ...    ...  \n",
       "886    male  27.0      0      0  13.0000   Rev.  \n",
       "887  female  19.0      0      0  30.0000  Miss.  \n",
       "888  female   NaN      1      2  23.4500  Miss.  \n",
       "889    male  26.0      0      0  30.0000    Mr.  \n",
       "890    male  32.0      0      0   7.7500    Mr.  \n",
       "\n",
       "[891 rows x 9 columns]"
      ]
     },
     "execution_count": 23,
     "metadata": {},
     "output_type": "execute_result"
    }
   ],
   "source": [
    "df['Titles'] = df['Name'].str.extract(r', (\\w+\\.)')\n",
    "df"
   ]
  },
  {
   "cell_type": "code",
   "execution_count": 24,
   "id": "f7e748f8",
   "metadata": {},
   "outputs": [
    {
     "name": "stdout",
     "output_type": "stream",
     "text": [
      "Percentages of missing values:\n",
      "Age         19.87\n",
      "Titles       0.11\n",
      "Survived     0.00\n",
      "Pclass       0.00\n",
      "Name         0.00\n",
      "Sex          0.00\n",
      "SibSp        0.00\n",
      "Parch        0.00\n",
      "Fare         0.00\n",
      "dtype: float64\n"
     ]
    }
   ],
   "source": [
    "print(\"Percentages of missing values:\")\n",
    "print(round (df.isnull().sum().sort_values(ascending=False)/len(df)*100,2))"
   ]
  },
  {
   "cell_type": "markdown",
   "id": "923b2ae3",
   "metadata": {},
   "source": [
    "There is 0.11% missing value on Titles. Let's fix that by identifying the index value of the null value in Titles column.  Once the name appears, let's find out whether we can apply the necessary title."
   ]
  },
  {
   "cell_type": "code",
   "execution_count": 26,
   "id": "faff502e",
   "metadata": {},
   "outputs": [
    {
     "name": "stdout",
     "output_type": "stream",
     "text": [
      "Index number of Rothes: [759]\n",
      "Rothes, the Countess. of (Lucy Noel Martha Dyer-Edwards)\n"
     ]
    }
   ],
   "source": [
    "title_miss = df[df['Titles'].isnull()].index.values # index number of missing value on Title\n",
    "print(\"Index number of Rothes: {}\".format(title_miss))\n",
    "print(df.loc[int(title_miss), 'Name']) # prints the name of missing value"
   ]
  },
  {
   "cell_type": "markdown",
   "id": "e3b85375",
   "metadata": {},
   "source": [
    "the Countess. of may have a title of \"Miss\", so let's apply that to this passenger."
   ]
  },
  {
   "cell_type": "code",
   "execution_count": 28,
   "id": "10c47383",
   "metadata": {},
   "outputs": [
    {
     "name": "stdout",
     "output_type": "stream",
     "text": [
      "Percentages of missing values:\n",
      "Age         19.87\n",
      "Survived     0.00\n",
      "Pclass       0.00\n",
      "Name         0.00\n",
      "Sex          0.00\n",
      "SibSp        0.00\n",
      "Parch        0.00\n",
      "Fare         0.00\n",
      "Titles       0.00\n",
      "dtype: float64\n"
     ]
    }
   ],
   "source": [
    "# only run this code once so that it won't produce errors\n",
    "# filling 'Miss' to data with missing val\n",
    "df.at[int(title_miss), 'Titles']='Miss'\n",
    "df.at[int(title_miss), 'Titles']\n",
    "\n",
    "# should show no missing value on 'Titles' column\n",
    "print(\"Percentages of missing values:\")\n",
    "print(round (df.isnull().sum().sort_values(ascending=False)/len(df)*100,2))"
   ]
  },
  {
   "cell_type": "markdown",
   "id": "c9090fbf",
   "metadata": {},
   "source": [
    "To prevent ourselves from overwriting the df, let's make a copy of it and assign it a different name."
   ]
  },
  {
   "cell_type": "code",
   "execution_count": 29,
   "id": "e0c9fe44",
   "metadata": {},
   "outputs": [],
   "source": [
    "titan_df = df.copy()"
   ]
  },
  {
   "cell_type": "code",
   "execution_count": 30,
   "id": "cc02a049",
   "metadata": {},
   "outputs": [
    {
     "name": "stdout",
     "output_type": "stream",
     "text": [
      "4 23 34 30 32\n"
     ]
    }
   ],
   "source": [
    "# mean - Age - of young boys, girls, women and men\n",
    "# Getting the mean can be improved if we add a condition that young girls', women's and men's fees are also based on their Pclass and Fare amount\n",
    "# In this EDA, we will not include such condition, but only base them on their Title, Sex, and Parch (accompanied by the number of parents)\n",
    "mean_age_boys = math.floor(titan_df[ \n",
    "    (titan_df['Parch']!=0) & \n",
    "    (titan_df['Sex']=='male') & \n",
    "    (titan_df['Titles']=='Master.')]['Age'].mean())\n",
    "mean_age_girls = math.floor(titan_df[ \n",
    "    (titan_df['Parch']!=0) & \n",
    "    (titan_df['Sex']=='female')  ]['Age'].mean())\n",
    "mean_age_women = math.floor(titan_df [ \n",
    "    (titan_df['Parch']==0) & \n",
    "    (titan_df['Sex']=='female') ]['Age'].mean())\n",
    "mean_age_boys_not_mister = math.floor(titan_df[\n",
    "    (titan_df['Parch']!=0) &\n",
    "    (titan_df['Sex']=='male') &\n",
    "    (titan_df['Titles']!='Master.')]['Age'].mean())\n",
    "mean_age_men = math.floor(titan_df [ \n",
    "    (titan_df['Parch']==0) & \n",
    "    (titan_df['Sex']=='male') ]['Age'].mean())\n",
    "\n",
    "print(mean_age_boys, mean_age_girls, mean_age_boys_not_mister, mean_age_women, mean_age_men)\n"
   ]
  },
  {
   "cell_type": "code",
   "execution_count": 31,
   "id": "993710be",
   "metadata": {},
   "outputs": [],
   "source": [
    "a_value = float('NaN')\n",
    "is_NaN = math.isnan(float('NaN'))\n",
    "\n",
    "# Assign value to 'Age'\n",
    "# 1. Determine the mean of boys that meets the following conditions:\n",
    "#          - 'Title' = Master ---> mean of all M & Parch > 0 & Title == Master\n",
    "# 2. Determine the mean of girls that meets the following conditions:\n",
    "#          - girls (mean) ---> F & Parch != 0\n",
    "# 3. Determine the mean of women (without parents) that meets the following conditions:\n",
    "#          - women (mean) ---> F & Parch == 0 \n",
    "# 4. Determine the mean of men (without parents) that meets the following conditions:\n",
    "#          - men (mean) -----> M & Parch == 0\n",
    "\n",
    "# shows unique values of 'Title'\n",
    "titan_df['Titles'].unique()\n",
    "\n",
    "for row in titan_df.index:\n",
    "    if ( math.isnan (titan_df['Age'][row])==True  ):\n",
    "        # fills the mean age for for young boys\n",
    "        if ( titan_df['Titles'][row] == 'Master.' ) :\n",
    "            #titan_df.at[row,'Age']=mean_age_boys -- this is used for Series\n",
    "            titan_df.loc[row, 'Age'] = mean_age_boys\n",
    "            #print( titan_df['Age'][row] )\n",
    "            #print( row)\n",
    "        elif ( titan_df['Sex'][row] == 'female'  ):\n",
    "            # fills the mean age for girls\n",
    "            if ( titan_df['Parch'][row]!=0 ):\n",
    "                titan_df.loc[row, 'Age'] = mean_age_girls\n",
    "            # fills the mean age for women\n",
    "            elif ( titan_df['Parch'][row]==0 ):\n",
    "                titan_df.loc[row, 'Age'] = mean_age_women     \n",
    "        elif ( (titan_df['Sex'][row]=='male') & (titan_df['Parch'][row]==0) ):\n",
    "            titan_df.loc[row, 'Age'] = mean_age_men\n",
    "        elif ( (titan_df['Sex'][row]=='male') & (titan_df['Parch'][row]!=0) & (titan_df['Titles'][row]!='Master.') ):    \n",
    "            titan_df.loc[row, 'Age'] = mean_age_boys_not_mister\n",
    "\n",
    "            "
   ]
  },
  {
   "cell_type": "code",
   "execution_count": 32,
   "id": "836ab4c8",
   "metadata": {},
   "outputs": [
    {
     "name": "stdout",
     "output_type": "stream",
     "text": [
      "<class 'pandas.core.frame.DataFrame'>\n",
      "RangeIndex: 891 entries, 0 to 890\n",
      "Data columns (total 9 columns):\n",
      " #   Column    Non-Null Count  Dtype  \n",
      "---  ------    --------------  -----  \n",
      " 0   Survived  891 non-null    int64  \n",
      " 1   Pclass    891 non-null    int64  \n",
      " 2   Name      891 non-null    object \n",
      " 3   Sex       891 non-null    object \n",
      " 4   Age       891 non-null    float64\n",
      " 5   SibSp     891 non-null    int64  \n",
      " 6   Parch     891 non-null    int64  \n",
      " 7   Fare      891 non-null    float64\n",
      " 8   Titles    891 non-null    object \n",
      "dtypes: float64(2), int64(4), object(3)\n",
      "memory usage: 62.8+ KB\n"
     ]
    }
   ],
   "source": [
    "titan_df.info()"
   ]
  },
  {
   "cell_type": "markdown",
   "id": "c57c9521",
   "metadata": {},
   "source": [
    "After imputing the age, we will now see a slight difference on the mean values of each class who survived and did not."
   ]
  },
  {
   "cell_type": "code",
   "execution_count": 33,
   "id": "c2857936",
   "metadata": {},
   "outputs": [
    {
     "name": "stdout",
     "output_type": "stream",
     "text": [
      "                 mean  median\n",
      "Survived Pclass              \n",
      "0        1       41.4    38.5\n",
      "         2       33.4    32.0\n",
      "         3       27.7    30.0\n",
      "1        1       34.8    33.5\n",
      "         2       26.1    28.0\n",
      "         3       22.9    26.0\n"
     ]
    }
   ],
   "source": [
    "# Shows the mean (from 0 to 1) survival rate for each Class\n",
    "# Class 1 has the highest survival rate, followed by class 2, then class 1\n",
    "print(titan_df.groupby(['Survived', 'Pclass'])['Age'].agg(['mean', 'median']).round(1))\n"
   ]
  },
  {
   "cell_type": "markdown",
   "id": "1af1413d",
   "metadata": {},
   "source": [
    "## Correlation"
   ]
  },
  {
   "cell_type": "markdown",
   "id": "f5d72b18",
   "metadata": {},
   "source": [
    "Now, let's proceed to find the correlation of all the numerical variables by using heatmap and finding the p-value."
   ]
  },
  {
   "cell_type": "code",
   "execution_count": 35,
   "id": "6e1d4985",
   "metadata": {},
   "outputs": [
    {
     "data": {
      "text/plain": [
       "<AxesSubplot:>"
      ]
     },
     "execution_count": 35,
     "metadata": {},
     "output_type": "execute_result"
    },
    {
     "data": {
      "image/png": "[encoded data removed]",
      "text/plain": [
       "<Figure size 432x288 with 2 Axes>"
      ]
     },
     "metadata": {
      "needs_background": "light"
     },
     "output_type": "display_data"
    }
   ],
   "source": [
    "\n",
    "# Heatmap for all numerical variables\n",
    "# Pclass and survival rate plotting\n",
    "# Survival and Pclass are negatively correlated with one another (-0.34). The lower the class (the richer you are), the higher your survival rate (0 lowest, 1 highest) is\n",
    "# Survival and Fare are positively correlated with one another (0.26). The higher the fare is paid, the greater chances of surviving.\n",
    "sns.heatmap(titan_df.corr(), cmap=\"RdBu\", annot=True, center=0, vmin=-1, vmax=1)\n"
   ]
  },
  {
   "cell_type": "markdown",
   "id": "72663f14",
   "metadata": {},
   "source": [
    "There is a moderate POSITIVE linear relationship between:\n",
    "- SibSp and Parch\n",
    "\n",
    "There is a weak POSITIVE linear relationship between the following:\n",
    "- Fare and Survival rate\n",
    "- Fare and SibSp\n",
    "- Fare and Parch\n",
    "\n",
    "There is a moderate NEGATIVE linear relationship between the following:\n",
    "- Pclass and Survived\n",
    "- Pclass and Age\n",
    "- Pclass and Fare\n",
    "\n",
    "There is a weak NEGATIVE linear relationship between:\n",
    "- Age and Parch\n"
   ]
  },
  {
   "cell_type": "markdown",
   "id": "499db06e",
   "metadata": {},
   "source": [
    "When we run the code below, we will see a small p-value (smaller than 5%).  This means,our correlation coefficients above are statistically significant.  It is less likely by chance that the stated positive and negative relationships above occurred.\n",
    "\n",
    "### Inference:\n",
    "**Positive**\n",
    "\n",
    "- The higher siblings there are, the more likely the person was accompanied by a parent.\n",
    "- The higher your fare is, the more likely are you to survive.\n",
    "- The higher your fare is, the more likely you have a sibling.\n",
    "- The higher your fare is, the more likely you are accompanied by a parent.\n",
    "\n",
    "**Negative**\n",
    "- The higher your class is (3rd class), the less likely you are to survive.\n",
    "- The higher your class is (3rd class), the younger you are.\n",
    "- The higher yoru class is (3rd class), the cheaper your fare is.\n",
    "- The older you are, the less likely you are accompanied by a parent."
   ]
  },
  {
   "cell_type": "code",
   "execution_count": 40,
   "id": "c4ed95f5",
   "metadata": {},
   "outputs": [
    {
     "name": "stdout",
     "output_type": "stream",
     "text": [
      "Correlation between SibSp and Parch: 0.41\n",
      "P-value of SipSp and Parch: 0.0\n",
      "Correlation between Fare and Survived: 0.26\n",
      "P-value of Fare and Survived: 0.0\n",
      "Correlation between Fare and SibSp: 0.16\n",
      "P-value of Fare and SibSp: 0.0\n",
      "Correlation between Fare and Parch: 0.22\n",
      "P-value of Fare and Parch: 0.0\n",
      "Correlation between Pclass and Survived: -0.34\n",
      "P-value of Pclass and Survived: 0.0\n",
      "Correlation between Pclass and Age: -0.33\n",
      "P-value of Pclass and Age: 0.0\n",
      "Correlation between Pclass and Fare: -0.55\n",
      "P-value of Pclass and Fare: 0.0\n",
      "Correlation between Age and Parch: -0.2\n",
      "P-value of Age and Parch: 0.0\n"
     ]
    }
   ],
   "source": [
    "r, p = stats.pearsonr(titan_df.SibSp, titan_df.Parch)\n",
    "print(\"Correlation between SibSp and Parch: {}\".format(round(r, 2)))\n",
    "print(\"P-value of SipSp and Parch: {}\".format(round(p, 2)))\n",
    "\n",
    "r, p = stats.pearsonr(titan_df.Fare, titan_df.Survived)\n",
    "print(\"Correlation between Fare and Survived: {}\".format(round(r, 2)))\n",
    "print(\"P-value of Fare and Survived: {}\".format(round(p, 2)))\n",
    "\n",
    "r, p = stats.pearsonr(titan_df.Fare, titan_df.SibSp)\n",
    "print(\"Correlation between Fare and SibSp: {}\".format(round(r, 2)))\n",
    "print(\"P-value of Fare and SibSp: {}\".format(round(p, 2)))\n",
    "\n",
    "r, p = stats.pearsonr(titan_df.Fare, titan_df.Parch)\n",
    "print(\"Correlation between Fare and Parch: {}\".format(round(r, 2)))\n",
    "print(\"P-value of Fare and Parch: {}\".format(round(p, 2)))\n",
    "\n",
    "r, p = stats.pearsonr(titan_df.Pclass, titan_df.Survived)\n",
    "print(\"Correlation between Pclass and Survived: {}\".format(round(r, 2)))\n",
    "print(\"P-value of Pclass and Survived: {}\".format(round(p, 2)))\n",
    "\n",
    "r, p = stats.pearsonr(titan_df.Pclass, titan_df.Age)\n",
    "print(\"Correlation between Pclass and Age: {}\".format(round(r, 2)))\n",
    "print(\"P-value of Pclass and Age: {}\".format(round(p, 2)))\n",
    "\n",
    "r, p = stats.pearsonr(titan_df.Pclass, titan_df.Fare)\n",
    "print(\"Correlation between Pclass and Fare: {}\".format(round(r, 2)))\n",
    "print(\"P-value of Pclass and Fare: {}\".format(round(p, 2)))\n",
    "\n",
    "r, p = stats.pearsonr(titan_df.Age, titan_df.Parch)\n",
    "print(\"Correlation between Age and Parch: {}\".format(round(r, 2)))\n",
    "print(\"P-value of Age and Parch: {}\".format(round(p, 2)))\n",
    "\n"
   ]
  },
  {
   "cell_type": "markdown",
   "id": "cf172e7f",
   "metadata": {},
   "source": [
    "# More Tables and Visualizations"
   ]
  },
  {
   "cell_type": "markdown",
   "id": "3960f1c4",
   "metadata": {},
   "source": [
    "We will now show the number of passenger before Titanic even sank into the deep."
   ]
  },
  {
   "cell_type": "code",
   "execution_count": 46,
   "id": "81cff366",
   "metadata": {},
   "outputs": [
    {
     "name": "stdout",
     "output_type": "stream",
     "text": [
      "3    491\n",
      "1    216\n",
      "2    184\n",
      "Name: Pclass, dtype: int64\n"
     ]
    },
    {
     "data": {
      "text/plain": [
       "<AxesSubplot:xlabel='Pclass', ylabel='count'>"
      ]
     },
     "execution_count": 46,
     "metadata": {},
     "output_type": "execute_result"
    },
    {
     "data": {
      "image/png": "[encoded data removed]",
      "text/plain": [
       "<Figure size 432x288 with 1 Axes>"
      ]
     },
     "metadata": {
      "needs_background": "light"
     },
     "output_type": "display_data"
    }
   ],
   "source": [
    "# -------------------------------\n",
    "# Overview of number of passengers in each class\n",
    "# -------------------------------\n",
    "# shows the frequency of each Pclass using Bargraph (or countplot)\n",
    "# The most number of passengers are distributed on the 3rd class\n",
    "\n",
    "# Shows the number of passengers in each class for both who survived and not\n",
    "\n",
    "print(titan_df['Pclass'].value_counts())\n",
    "\n",
    "sns.countplot(x=\"Pclass\", data=titan_df)\n",
    "\n"
   ]
  },
  {
   "cell_type": "code",
   "execution_count": 48,
   "id": "77d9c21c",
   "metadata": {},
   "outputs": [
    {
     "data": {
      "text/plain": [
       "Survived    342\n",
       "Pclass      342\n",
       "Name        342\n",
       "Sex         342\n",
       "Age         342\n",
       "SibSp       342\n",
       "Parch       342\n",
       "Fare        342\n",
       "Titles      342\n",
       "dtype: int64"
      ]
     },
     "execution_count": 48,
     "metadata": {},
     "output_type": "execute_result"
    }
   ],
   "source": [
    "# Total number of those who survived  in each variable\n",
    "titan_df[titan_df['Survived']==1].count()"
   ]
  },
  {
   "cell_type": "code",
   "execution_count": 49,
   "id": "fa1c9ff3",
   "metadata": {},
   "outputs": [
    {
     "data": {
      "text/plain": [
       "Survived    549\n",
       "Pclass      549\n",
       "Name        549\n",
       "Sex         549\n",
       "Age         549\n",
       "SibSp       549\n",
       "Parch       549\n",
       "Fare        549\n",
       "Titles      549\n",
       "dtype: int64"
      ]
     },
     "execution_count": 49,
     "metadata": {},
     "output_type": "execute_result"
    }
   ],
   "source": [
    "# Total number of those who did not survive in each variable\n",
    "titan_df[titan_df['Survived']==0].count()"
   ]
  },
  {
   "cell_type": "code",
   "execution_count": 51,
   "id": "25f62c34",
   "metadata": {},
   "outputs": [
    {
     "data": {
      "text/plain": [
       "342"
      ]
     },
     "execution_count": 51,
     "metadata": {},
     "output_type": "execute_result"
    }
   ],
   "source": [
    "# Sum of all who survived\n",
    "\n",
    "titan_df['Survived'].sum()"
   ]
  },
  {
   "cell_type": "markdown",
   "id": "d32bf37b",
   "metadata": {},
   "source": [
    "## Survival Rate and Passenger Class"
   ]
  },
  {
   "cell_type": "code",
   "execution_count": 53,
   "id": "d51f484e",
   "metadata": {},
   "outputs": [
    {
     "data": {
      "text/plain": [
       "<AxesSubplot:xlabel='Survived', ylabel='count'>"
      ]
     },
     "execution_count": 53,
     "metadata": {},
     "output_type": "execute_result"
    },
    {
     "data": {
      "image/png": "[encoded data removed]",
      "text/plain": [
       "<Figure size 432x288 with 1 Axes>"
      ]
     },
     "metadata": {
      "needs_background": "light"
     },
     "output_type": "display_data"
    }
   ],
   "source": [
    "# 1 represents those who survived.  There are more Class 1 who survived\n",
    "# 0 represents those who were not alive.  The least least survival rate belongs to Class 3\n",
    "\n",
    "sns.countplot(x='Survived', data=titan_df, hue='Pclass')"
   ]
  },
  {
   "cell_type": "code",
   "execution_count": 55,
   "id": "26ba9b72",
   "metadata": {},
   "outputs": [
    {
     "name": "stdout",
     "output_type": "stream",
     "text": [
      "        Survived\n",
      "Pclass          \n",
      "1       0.629630\n",
      "2       0.472826\n",
      "3       0.242363\n"
     ]
    }
   ],
   "source": [
    "# Shows the mean (from 0 to 1) survival rate for each Class\n",
    "# Class 1 has the highest survival rate, followed by class 2, then class 1\n",
    "\n",
    "print(titan_df[['Pclass','Survived']].groupby('Pclass').mean())"
   ]
  },
  {
   "cell_type": "markdown",
   "id": "fde4b704",
   "metadata": {},
   "source": [
    "## General view of survival rate on Sex, Pclass and mean of Age"
   ]
  },
  {
   "cell_type": "code",
   "execution_count": 56,
   "id": "07d6155f",
   "metadata": {},
   "outputs": [
    {
     "name": "stdout",
     "output_type": "stream",
     "text": [
      "                        mean  median\n",
      "Survived Sex    Pclass              \n",
      "0        female 1       25.7    25.0\n",
      "                2       36.0    32.5\n",
      "                3       24.4    23.0\n",
      "         male   1       42.0    39.0\n",
      "                2       33.3    32.0\n",
      "                3       28.4    32.0\n",
      "1        female 1       34.4    33.0\n",
      "                2       28.1    28.5\n",
      "                3       22.8    26.0\n",
      "         male   1       35.8    35.0\n",
      "                2       17.9     8.0\n",
      "                3       22.9    26.0\n"
     ]
    }
   ],
   "source": [
    "print(titan_df.groupby(['Survived', 'Sex', 'Pclass'])['Age'].agg(['mean', 'median']).round(1))"
   ]
  },
  {
   "cell_type": "markdown",
   "id": "0dacc884",
   "metadata": {},
   "source": [
    "## Survival Rate and (Sex and Passenger Class and Fare)"
   ]
  },
  {
   "cell_type": "code",
   "execution_count": 57,
   "id": "fdadae98",
   "metadata": {},
   "outputs": [
    {
     "data": {
      "text/plain": [
       "<AxesSubplot:xlabel='Survived', ylabel='count'>"
      ]
     },
     "execution_count": 57,
     "metadata": {},
     "output_type": "execute_result"
    },
    {
     "data": {
      "image/png": "[encoded data removed]",
      "text/plain": [
       "<Figure size 432x288 with 1 Axes>"
      ]
     },
     "metadata": {
      "needs_background": "light"
     },
     "output_type": "display_data"
    }
   ],
   "source": [
    "sns.countplot(x='Survived', data=titan_df, hue='Sex')"
   ]
  },
  {
   "cell_type": "code",
   "execution_count": 58,
   "id": "fd8fe41c",
   "metadata": {},
   "outputs": [
    {
     "data": {
      "text/plain": [
       "<seaborn.axisgrid.FacetGrid at 0x7fe32e218820>"
      ]
     },
     "execution_count": 58,
     "metadata": {},
     "output_type": "execute_result"
    },
    {
     "data": {
      "image/png": "[encoded data removed]",
      "text/plain": [
       "<Figure size 360x360 with 1 Axes>"
      ]
     },
     "metadata": {
      "needs_background": "light"
     },
     "output_type": "display_data"
    }
   ],
   "source": [
    "sns.catplot(x=\"Sex\", y=\"Survived\", kind=\"bar\", data=titan_df)"
   ]
  },
  {
   "cell_type": "code",
   "execution_count": 59,
   "id": "b821688e",
   "metadata": {},
   "outputs": [
    {
     "data": {
      "text/plain": [
       "<seaborn.axisgrid.FacetGrid at 0x7fe32e23d910>"
      ]
     },
     "execution_count": 59,
     "metadata": {},
     "output_type": "execute_result"
    },
    {
     "data": {
      "image/png": "[encoded data removed]",
      "text/plain": [
       "<Figure size 402.375x360 with 1 Axes>"
      ]
     },
     "metadata": {
      "needs_background": "light"
     },
     "output_type": "display_data"
    }
   ],
   "source": [
    "# Shows survival rate is higher in females than in males\n",
    "# Shows that Class 1 has the most number of survival for both male and female, followed by class 2\n",
    "# The least survivors are males who belong to Class 3; This is similar with females who belong to Class 3\n",
    "\n",
    "sns.catplot(x=\"Sex\", y=\"Survived\", hue=\"Pclass\", kind=\"bar\", data=titan_df)"
   ]
  },
  {
   "cell_type": "code",
   "execution_count": 61,
   "id": "4d45c90d",
   "metadata": {},
   "outputs": [
    {
     "data": {
      "text/html": [
       "<div>\n",
       "<style scoped>\n",
       "    .dataframe tbody tr th:only-of-type {\n",
       "        vertical-align: middle;\n",
       "    }\n",
       "\n",
       "    .dataframe tbody tr th {\n",
       "        vertical-align: top;\n",
       "    }\n",
       "\n",
       "    .dataframe thead th {\n",
       "        text-align: right;\n",
       "    }\n",
       "</style>\n",
       "<table border=\"1\" class=\"dataframe\">\n",
       "  <thead>\n",
       "    <tr style=\"text-align: right;\">\n",
       "      <th></th>\n",
       "      <th>Age</th>\n",
       "      <th>Fare</th>\n",
       "      <th>Survived</th>\n",
       "    </tr>\n",
       "    <tr>\n",
       "      <th>Sex</th>\n",
       "      <th></th>\n",
       "      <th></th>\n",
       "      <th></th>\n",
       "    </tr>\n",
       "  </thead>\n",
       "  <tbody>\n",
       "    <tr>\n",
       "      <th>female</th>\n",
       "      <td>28.000000</td>\n",
       "      <td>44.479818</td>\n",
       "      <td>233</td>\n",
       "    </tr>\n",
       "    <tr>\n",
       "      <th>male</th>\n",
       "      <td>30.820052</td>\n",
       "      <td>25.523893</td>\n",
       "      <td>109</td>\n",
       "    </tr>\n",
       "  </tbody>\n",
       "</table>\n",
       "</div>"
      ],
      "text/plain": [
       "              Age       Fare  Survived\n",
       "Sex                                   \n",
       "female  28.000000  44.479818       233\n",
       "male    30.820052  25.523893       109"
      ]
     },
     "execution_count": 61,
     "metadata": {},
     "output_type": "execute_result"
    }
   ],
   "source": [
    "table = pd.pivot_table(titan_df,index=['Sex'], aggfunc={'Age':np.mean, 'Fare':np.mean, 'Survived':np.sum})\n",
    "table"
   ]
  },
  {
   "cell_type": "code",
   "execution_count": 63,
   "id": "bf868af3",
   "metadata": {},
   "outputs": [
    {
     "data": {
      "text/html": [
       "<div>\n",
       "<style scoped>\n",
       "    .dataframe tbody tr th:only-of-type {\n",
       "        vertical-align: middle;\n",
       "    }\n",
       "\n",
       "    .dataframe tbody tr th {\n",
       "        vertical-align: top;\n",
       "    }\n",
       "\n",
       "    .dataframe thead th {\n",
       "        text-align: right;\n",
       "    }\n",
       "</style>\n",
       "<table border=\"1\" class=\"dataframe\">\n",
       "  <thead>\n",
       "    <tr style=\"text-align: right;\">\n",
       "      <th></th>\n",
       "      <th></th>\n",
       "      <th>Age</th>\n",
       "      <th>Fare</th>\n",
       "      <th>Survived</th>\n",
       "    </tr>\n",
       "    <tr>\n",
       "      <th>Sex</th>\n",
       "      <th>Pclass</th>\n",
       "      <th></th>\n",
       "      <th></th>\n",
       "      <th></th>\n",
       "    </tr>\n",
       "  </thead>\n",
       "  <tbody>\n",
       "    <tr>\n",
       "      <th rowspan=\"3\" valign=\"top\">female</th>\n",
       "      <th>1</th>\n",
       "      <td>34.095745</td>\n",
       "      <td>106.125798</td>\n",
       "      <td>91</td>\n",
       "    </tr>\n",
       "    <tr>\n",
       "      <th>2</th>\n",
       "      <td>28.756579</td>\n",
       "      <td>21.970121</td>\n",
       "      <td>70</td>\n",
       "    </tr>\n",
       "    <tr>\n",
       "      <th>3</th>\n",
       "      <td>23.621528</td>\n",
       "      <td>16.118810</td>\n",
       "      <td>72</td>\n",
       "    </tr>\n",
       "    <tr>\n",
       "      <th rowspan=\"3\" valign=\"top\">male</th>\n",
       "      <th>1</th>\n",
       "      <td>39.683770</td>\n",
       "      <td>67.226127</td>\n",
       "      <td>45</td>\n",
       "    </tr>\n",
       "    <tr>\n",
       "      <th>2</th>\n",
       "      <td>30.845648</td>\n",
       "      <td>19.741782</td>\n",
       "      <td>17</td>\n",
       "    </tr>\n",
       "    <tr>\n",
       "      <th>3</th>\n",
       "      <td>27.695735</td>\n",
       "      <td>12.661633</td>\n",
       "      <td>47</td>\n",
       "    </tr>\n",
       "  </tbody>\n",
       "</table>\n",
       "</div>"
      ],
      "text/plain": [
       "                     Age        Fare  Survived\n",
       "Sex    Pclass                                 \n",
       "female 1       34.095745  106.125798        91\n",
       "       2       28.756579   21.970121        70\n",
       "       3       23.621528   16.118810        72\n",
       "male   1       39.683770   67.226127        45\n",
       "       2       30.845648   19.741782        17\n",
       "       3       27.695735   12.661633        47"
      ]
     },
     "execution_count": 63,
     "metadata": {},
     "output_type": "execute_result"
    }
   ],
   "source": [
    "# Table below shows us the mean of each Sex (male and female), Passenger Class (1,2,3) and the number of those who survived in each group\n",
    "\n",
    "table = pd.pivot_table(titan_df,index=['Sex','Pclass'], aggfunc={'Age':np.mean, 'Fare':np.mean, 'Survived':np.sum})\n",
    "table"
   ]
  },
  {
   "cell_type": "markdown",
   "id": "f7307d45",
   "metadata": {},
   "source": [
    "## Survival Rate (Age and Pclass)"
   ]
  },
  {
   "cell_type": "code",
   "execution_count": 65,
   "id": "6ab127a9",
   "metadata": {},
   "outputs": [
    {
     "data": {
      "text/html": [
       "<div>\n",
       "<style scoped>\n",
       "    .dataframe tbody tr th:only-of-type {\n",
       "        vertical-align: middle;\n",
       "    }\n",
       "\n",
       "    .dataframe tbody tr th {\n",
       "        vertical-align: top;\n",
       "    }\n",
       "\n",
       "    .dataframe thead th {\n",
       "        text-align: right;\n",
       "    }\n",
       "</style>\n",
       "<table border=\"1\" class=\"dataframe\">\n",
       "  <thead>\n",
       "    <tr style=\"text-align: right;\">\n",
       "      <th></th>\n",
       "      <th></th>\n",
       "      <th>Age</th>\n",
       "      <th>Survived</th>\n",
       "    </tr>\n",
       "    <tr>\n",
       "      <th>Sex</th>\n",
       "      <th>Pclass</th>\n",
       "      <th></th>\n",
       "      <th></th>\n",
       "    </tr>\n",
       "  </thead>\n",
       "  <tbody>\n",
       "    <tr>\n",
       "      <th rowspan=\"3\" valign=\"top\">female</th>\n",
       "      <th>1</th>\n",
       "      <td>34.095745</td>\n",
       "      <td>91</td>\n",
       "    </tr>\n",
       "    <tr>\n",
       "      <th>2</th>\n",
       "      <td>28.756579</td>\n",
       "      <td>70</td>\n",
       "    </tr>\n",
       "    <tr>\n",
       "      <th>3</th>\n",
       "      <td>23.621528</td>\n",
       "      <td>72</td>\n",
       "    </tr>\n",
       "    <tr>\n",
       "      <th rowspan=\"3\" valign=\"top\">male</th>\n",
       "      <th>1</th>\n",
       "      <td>39.683770</td>\n",
       "      <td>45</td>\n",
       "    </tr>\n",
       "    <tr>\n",
       "      <th>2</th>\n",
       "      <td>30.845648</td>\n",
       "      <td>17</td>\n",
       "    </tr>\n",
       "    <tr>\n",
       "      <th>3</th>\n",
       "      <td>27.695735</td>\n",
       "      <td>47</td>\n",
       "    </tr>\n",
       "  </tbody>\n",
       "</table>\n",
       "</div>"
      ],
      "text/plain": [
       "                     Age  Survived\n",
       "Sex    Pclass                     \n",
       "female 1       34.095745        91\n",
       "       2       28.756579        70\n",
       "       3       23.621528        72\n",
       "male   1       39.683770        45\n",
       "       2       30.845648        17\n",
       "       3       27.695735        47"
      ]
     },
     "execution_count": 65,
     "metadata": {},
     "output_type": "execute_result"
    }
   ],
   "source": [
    "# different aggregate functions\n",
    "table = pd.pivot_table(titan_df,index=['Sex','Pclass'],aggfunc={'Age':np.mean,'Survived':np.sum})\n",
    "table"
   ]
  },
  {
   "cell_type": "code",
   "execution_count": 68,
   "id": "9bcf61ac",
   "metadata": {},
   "outputs": [],
   "source": [
    "titan_df.to_csv('../result/clean_titan_df.csv')"
   ]
  },
  {
   "cell_type": "code",
   "execution_count": null,
   "id": "f4bb08b7",
   "metadata": {},
   "outputs": [],
   "source": []
  },
  {
   "cell_type": "code",
   "execution_count": null,
   "id": "2b08c9ac",
   "metadata": {},
   "outputs": [],
   "source": []
  },
  {
   "cell_type": "code",
   "execution_count": null,
   "id": "969fc9f5",
   "metadata": {},
   "outputs": [],
   "source": []
  },
  {
   "cell_type": "code",
   "execution_count": null,
   "id": "90d14eab",
   "metadata": {},
   "outputs": [],
   "source": []
  },
  {
   "cell_type": "code",
   "execution_count": null,
   "id": "e757adb3",
   "metadata": {},
   "outputs": [],
   "source": []
  }
 ],
 "metadata": {
  "kernelspec": {
   "display_name": "Python 3 (ipykernel)",
   "language": "python",
   "name": "python3"
  },
  "language_info": {
   "codemirror_mode": {
    "name": "ipython",
    "version": 3
   },
   "file_extension": ".py",
   "mimetype": "text/x-python",
   "name": "python",
   "nbconvert_exporter": "python",
   "pygments_lexer": "ipython3",
   "version": "3.9.7"
  }
 },
 "nbformat": 4,
 "nbformat_minor": 5
}
